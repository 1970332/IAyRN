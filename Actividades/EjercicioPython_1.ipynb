{
  "nbformat": 4,
  "nbformat_minor": 0,
  "metadata": {
    "colab": {
      "provenance": [],
      "authorship_tag": "ABX9TyPp+a5ShqGX9DmClI1F9iQ0",
      "include_colab_link": true
    },
    "kernelspec": {
      "name": "python3",
      "display_name": "Python 3"
    },
    "language_info": {
      "name": "python"
    }
  },
  "cells": [
    {
      "cell_type": "markdown",
      "metadata": {
        "id": "view-in-github",
        "colab_type": "text"
      },
      "source": [
        "<a href=\"https://colab.research.google.com/github/1970332/IAyRN/blob/main/Actividades/EjercicioPython_1.ipynb\" target=\"_parent\"><img src=\"https://colab.research.google.com/assets/colab-badge.svg\" alt=\"Open In Colab\"/></a>"
      ]
    },
    {
      "cell_type": "markdown",
      "source": [
        "# Actividad 2: Diseño de algoritmos en **Python**\n",
        "Andy Alexander López Ovalle 1970332 Hora: N4 a N6"
      ],
      "metadata": {
        "id": "smMfAOVwM_Eg"
      }
    },
    {
      "cell_type": "markdown",
      "source": [
        "1- Desarrolla un algoritmo que le pida al usuario por su nombre y que lo salude con su nombre, excepto si se llama “Ana”, “Juan”, y “Pedro”."
      ],
      "metadata": {
        "id": "BipJSrEDPa3F"
      }
    },
    {
      "cell_type": "code",
      "source": [
        "\n",
        "nombre = input(\"¿Cuál es tu nombre? \")\n",
        "if nombre not in [\"Ana\", \"Juan\", \"Pedro\"]:\n",
        "    print(\"Hola\", nombre)\n"
      ],
      "metadata": {
        "id": "deRdS-ftM_nR",
        "colab": {
          "base_uri": "https://localhost:8080/"
        },
        "outputId": "ccd051fb-1d78-4431-e922-45f5ab6618a4"
      },
      "execution_count": 2,
      "outputs": [
        {
          "output_type": "stream",
          "name": "stdout",
          "text": [
            "¿Cuál es tu nombre? Alexander\n",
            "Hola Alexander\n"
          ]
        }
      ]
    },
    {
      "cell_type": "markdown",
      "source": [
        "2- Desarrolla un algoritmo que por medio de una función, le pida al usuario una lista de N elementos y como resultado invierta el sentido de la lista."
      ],
      "metadata": {
        "id": "5GpExJ5OPjhw"
      }
    },
    {
      "cell_type": "code",
      "source": [
        "\n",
        "def invertir_lista(lista):\n",
        "  \"\"\"\n",
        "  Esta función invierte el sentido de una lista.\n",
        "\n",
        "  Args:\n",
        "    lista: La lista a invertir.\n",
        "\n",
        "  Returns:\n",
        "    La lista invertida.\n",
        "  \"\"\"\n",
        "\n",
        "  # Crear una nueva lista vacía para almacenar la lista invertida.\n",
        "  lista_invertida = []\n",
        "\n",
        "  # Recorrer la lista original en sentido inverso.\n",
        "  for i in range(len(lista) - 1, -1, -1):\n",
        "    # Agregar el elemento actual de la lista original a la lista invertida.\n",
        "    lista_invertida.append(lista[i])\n",
        "\n",
        "  # Devolver la lista invertida.\n",
        "  return lista_invertida\n",
        "\n",
        "\n",
        "# Pedir al usuario que ingrese una lista de elementos.\n",
        "lista = input(\"Ingresa una lista de elementos separados por comas: \").split(\",\")\n",
        "\n",
        "# Invertir la lista.\n",
        "lista_invertida = invertir_lista(lista)\n",
        "\n",
        "# Imprimir la lista invertida.\n",
        "print(\"La lista invertida es:\", lista_invertida)\n"
      ],
      "metadata": {
        "colab": {
          "base_uri": "https://localhost:8080/"
        },
        "id": "_lwcYBH1VFvD",
        "outputId": "6f91c872-2095-4589-ecc0-4a402939eb62"
      },
      "execution_count": 2,
      "outputs": [
        {
          "output_type": "stream",
          "name": "stdout",
          "text": [
            "Ingresa una lista de elementos separados por comas: 1,2,3,4,5,6,7,8,9,10\n",
            "La lista invertida es: ['10', '9', '8', '7', '6', '5', '4', '3', '2', '1']\n"
          ]
        }
      ]
    },
    {
      "cell_type": "markdown",
      "source": [
        "3- Desarrolla un algoritmo que le pregunte al usuario cuántos números de la serie de Fibonacci quiere generar y que al final los imprima."
      ],
      "metadata": {
        "id": "pmlo_4qZPx_b"
      }
    },
    {
      "cell_type": "code",
      "source": [
        "\n",
        "# Pedir al usuario cuántos números de la serie de Fibonacci quiere generar.\n",
        "n = int(input(\"¿Cuántos números de la serie de Fibonacci quieres generar? \"))\n",
        "\n",
        "# Inicializar las variables que almacenarán los dos primeros números de la serie.\n",
        "a, b = 0, 1\n",
        "\n",
        "# Imprimir los dos primeros números de la serie.\n",
        "print(a)\n",
        "print(b)\n",
        "\n",
        "# Generar los siguientes n-2 números de la serie.\n",
        "for i in range(2, n):\n",
        "  # Calcular el siguiente número de la serie.\n",
        "  c = a + b\n",
        "\n",
        "  # Imprimir el número.\n",
        "  print(c)\n",
        "\n",
        "  # Actualizar los valores de a y b.\n",
        "  a = b\n",
        "  b = c\n"
      ],
      "metadata": {
        "colab": {
          "base_uri": "https://localhost:8080/"
        },
        "id": "FTN4X_bbVhq7",
        "outputId": "fb5d315f-1c88-4803-adca-72ebcc3da847"
      },
      "execution_count": 3,
      "outputs": [
        {
          "output_type": "stream",
          "name": "stdout",
          "text": [
            "¿Cuántos números de la serie de Fibonacci quieres generar? 10\n",
            "0\n",
            "1\n",
            "1\n",
            "2\n",
            "3\n",
            "5\n",
            "8\n",
            "13\n",
            "21\n",
            "34\n"
          ]
        }
      ]
    },
    {
      "cell_type": "markdown",
      "source": [
        "4- Juego de adivinar el número: Crea un programa que genere un número aleatorio entre 1 y 100, y luego le pida al usuario que adivine el número. El programa debe proporcionar pistas al usuario si el número es mayor o menor que el número objetivo, y seguir solicitando un nuevo intento hasta que el usuario adivine correctamente."
      ],
      "metadata": {
        "id": "oQzOEL35P75p"
      }
    },
    {
      "cell_type": "code",
      "source": [
        "\n",
        "import random\n",
        "\n",
        "# Generar un número aleatorio entre 1 y 100.\n",
        "numero_objetivo = random.randint(1, 100)\n",
        "\n",
        "# Inicializar la variable que almacena el número de intentos.\n",
        "intentos = 0\n",
        "\n",
        "# Solicitar al usuario que adivine el número.\n",
        "while True:\n",
        "  # Incrementar el número de intentos.\n",
        "  intentos += 1\n",
        "\n",
        "  # Pedir al usuario que ingrese un número.\n",
        "  numero_usuario = int(input(\"Adivina el número (entre 1 y 100): \"))\n",
        "\n",
        "  # Comprobar si el número ingresado es igual al número objetivo.\n",
        "  if numero_usuario == numero_objetivo:\n",
        "    # Imprimir un mensaje de felicitación.\n",
        "    print(\"¡Felicidades! Adivinaste el número en\", intentos, \"intentos.\")\n",
        "    # Salir del bucle.\n",
        "    break\n",
        "  # Comprobar si el número ingresado es mayor que el número objetivo.\n",
        "  elif numero_usuario > numero_objetivo:\n",
        "    # Imprimir una pista.\n",
        "    print(\"El número que ingresaste es mayor que el número objetivo.\")\n",
        "  # Comprobar si el número ingresado es menor que el número objetivo.\n",
        "  else:\n",
        "    # Imprimir una pista.\n",
        "    print(\"El número que ingresaste es menor que el número objetivo.\")\n"
      ],
      "metadata": {
        "colab": {
          "base_uri": "https://localhost:8080/"
        },
        "id": "6-wJIulHVy4-",
        "outputId": "82289f58-c7b1-40ed-db0b-310e7f7baa76"
      },
      "execution_count": null,
      "outputs": [
        {
          "output_type": "stream",
          "name": "stdout",
          "text": [
            "Adivina el número (entre 1 y 100): 70\n",
            "El número que ingresaste es menor que el número objetivo.\n",
            "Adivina el número (entre 1 y 100): 40\n",
            "El número que ingresaste es menor que el número objetivo.\n",
            "Adivina el número (entre 1 y 100): 28\n",
            "El número que ingresaste es menor que el número objetivo.\n",
            "Adivina el número (entre 1 y 100): 14\n",
            "El número que ingresaste es menor que el número objetivo.\n",
            "Adivina el número (entre 1 y 100): 7\n",
            "El número que ingresaste es menor que el número objetivo.\n",
            "Adivina el número (entre 1 y 100): 3\n",
            "El número que ingresaste es menor que el número objetivo.\n",
            "Adivina el número (entre 1 y 100): 1\n",
            "El número que ingresaste es menor que el número objetivo.\n",
            "Adivina el número (entre 1 y 100): 2\n",
            "El número que ingresaste es menor que el número objetivo.\n",
            "Adivina el número (entre 1 y 100): 80\n",
            "El número que ingresaste es menor que el número objetivo.\n",
            "Adivina el número (entre 1 y 100): 90\n",
            "El número que ingresaste es menor que el número objetivo.\n",
            "Adivina el número (entre 1 y 100): 95\n",
            "El número que ingresaste es mayor que el número objetivo.\n",
            "Adivina el número (entre 1 y 100): 93\n",
            "El número que ingresaste es mayor que el número objetivo.\n",
            "Adivina el número (entre 1 y 100): 92\n",
            "El número que ingresaste es mayor que el número objetivo.\n",
            "Adivina el número (entre 1 y 100): 91\n",
            "¡Felicidades! Adivinaste el número en 14 intentos.\n"
          ]
        }
      ]
    },
    {
      "cell_type": "markdown",
      "source": [
        "5- Ejercicio de cálculo de números primos en un rango dado: Escribe un programa que solicite al usuario un rango de números y muestre todos los números primos dentro de ese rango."
      ],
      "metadata": {
        "id": "YwUpOVXlQGyQ"
      }
    },
    {
      "cell_type": "code",
      "source": [
        "\n",
        "# Solicitar al usuario el rango de números\n",
        "inicio = int(input(\"Ingrese el número inicial del rango: \"))\n",
        "fin = int(input(\"Ingrese el número final del rango: \"))\n",
        "\n",
        "# Iterar sobre el rango de números\n",
        "for numero in range(inicio, fin + 1):\n",
        "  # Verificar si el número es primo\n",
        "  es_primo = True\n",
        "  for divisor in range(2, int(numero**0.5) + 1):\n",
        "    if numero % divisor == 0:\n",
        "      es_primo = False\n",
        "      break\n",
        "\n",
        "  # Imprimir el número si es primo\n",
        "  if es_primo:\n",
        "    print(numero)\n"
      ],
      "metadata": {
        "id": "ehVW3gGDUuXg",
        "colab": {
          "base_uri": "https://localhost:8080/"
        },
        "outputId": "ca9d594e-7d85-40ef-f97e-4710468d51de"
      },
      "execution_count": 3,
      "outputs": [
        {
          "output_type": "stream",
          "name": "stdout",
          "text": [
            "Ingrese el número inicial del rango: 1\n",
            "Ingrese el número final del rango: 20\n",
            "1\n",
            "2\n",
            "3\n",
            "5\n",
            "7\n",
            "11\n",
            "13\n",
            "17\n",
            "19\n"
          ]
        }
      ]
    },
    {
      "cell_type": "markdown",
      "source": [
        "6- Ejercicio de implementación de una calculadora básica utilizando funciones: Escribe un programa que solicite al usuario dos números y realice operaciones básicas como suma, resta, multiplicación y división utilizando funciones separadas para cada operación."
      ],
      "metadata": {
        "id": "J-0YZ00vQO-d"
      }
    },
    {
      "cell_type": "code",
      "source": [
        "\n",
        "def suma(num1, num2):\n",
        "  \"\"\"\n",
        "  Esta función toma dos números como argumentos y devuelve su suma.\n",
        "\n",
        "  Args:\n",
        "      num1: El primer número.\n",
        "      num2: El segundo número.\n",
        "\n",
        "  Returns:\n",
        "      La suma de los dos números.\n",
        "  \"\"\"\n",
        "\n",
        "  return num1 + num2\n",
        "\n",
        "def resta(num1, num2):\n",
        "  \"\"\"\n",
        "  Esta función toma dos números como argumentos y devuelve su diferencia.\n",
        "\n",
        "  Args:\n",
        "      num1: El primer número.\n",
        "      num2: El segundo número.\n",
        "\n",
        "  Returns:\n",
        "      La diferencia de los dos números.\n",
        "  \"\"\"\n",
        "\n",
        "  return num1 - num2\n",
        "\n",
        "def multiplicacion(num1, num2):\n",
        "  \"\"\"\n",
        "  Esta función toma dos números como argumentos y devuelve su producto.\n",
        "\n",
        "  Args:\n",
        "      num1: El primer número.\n",
        "      num2: El segundo número.\n",
        "\n",
        "  Returns:\n",
        "      El producto de los dos números.\n",
        "  \"\"\"\n",
        "\n",
        "  return num1 * num2\n",
        "\n",
        "def division(num1, num2):\n",
        "  \"\"\"\n",
        "  Esta función toma dos números como argumentos y devuelve su cociente.\n",
        "\n",
        "  Args:\n",
        "      num1: El primer número.\n",
        "      num2: El segundo número.\n",
        "\n",
        "  Returns:\n",
        "      El cociente de los dos números.\n",
        "  \"\"\"\n",
        "\n",
        "  return num1 / num2\n",
        "\n",
        "# Obtén los dos números del usuario.\n",
        "num1 = float(input(\"Ingresa el primer valor: \"))\n",
        "num2 = float(input(\"Ingresa el segundo valor: \"))\n",
        "\n",
        "# Realiza las cuatro operaciones básicas utilizando las funciones.\n",
        "suma = suma(num1, num2)\n",
        "diferencia = resta(num1, num2)\n",
        "producto = multiplicacion(num1, num2)\n",
        "cociente = division(num1, num2)\n",
        "\n",
        "# Imprime los resultados.\n",
        "print(\"Suma:\", suma)\n",
        "print(\"Diferencia:\", diferencia)\n",
        "print(\"Producto:\", producto)\n",
        "print(\"Cociente:\", cociente)\n"
      ],
      "metadata": {
        "id": "9G2fTdSAUDvs",
        "colab": {
          "base_uri": "https://localhost:8080/"
        },
        "outputId": "cc7edd83-1d8d-44be-d907-817b00ee79cd"
      },
      "execution_count": 4,
      "outputs": [
        {
          "output_type": "stream",
          "name": "stdout",
          "text": [
            "Ingresa el primer valor: 180\n",
            "Ingresa el segundo valor: 70\n",
            "Suma: 250.0\n",
            "Diferencia: 110.0\n",
            "Producto: 12600.0\n",
            "Cociente: 2.5714285714285716\n"
          ]
        }
      ]
    }
  ]
}