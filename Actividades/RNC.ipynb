{
  "nbformat": 4,
  "nbformat_minor": 0,
  "metadata": {
    "colab": {
      "provenance": [],
      "authorship_tag": "ABX9TyPrOwv1eqkD2WS9ke+5kTcv",
      "include_colab_link": true
    },
    "kernelspec": {
      "name": "python3",
      "display_name": "Python 3"
    },
    "language_info": {
      "name": "python"
    }
  },
  "cells": [
    {
      "cell_type": "markdown",
      "metadata": {
        "id": "view-in-github",
        "colab_type": "text"
      },
      "source": [
        "<a href=\"https://colab.research.google.com/github/1970332/IAyRN/blob/main/RNC.ipynb\" target=\"_parent\"><img src=\"https://colab.research.google.com/assets/colab-badge.svg\" alt=\"Open In Colab\"/></a>"
      ]
    },
    {
      "cell_type": "markdown",
      "source": [
        "# Actividad 6: Redes neuronales.\n",
        "\n",
        "Andy Alexander López Ovalle 1970332 Hora: N4 a N6"
      ],
      "metadata": {
        "id": "z6Or6tIlJlLT"
      }
    },
    {
      "cell_type": "code",
      "source": [
        "import numpy as np\n",
        "import matplotlib.pyplot as plt\n",
        "import tensorflow as tf\n",
        "from tensorflow.keras.datasets import mnist\n",
        "from tensorflow.keras.models import Sequential\n",
        "from tensorflow.keras.layers import Conv2D, MaxPooling2D, Flatten, Dense\n",
        "\n",
        "# Carga al conjunto de datos MNIST\n",
        "(train_data, train_labels), (test_data, test_labels) = mnist.load_data()\n",
        "\n",
        "# Preprocesamiento de los datos\n",
        "train_data = train_data.reshape((train_data.shape[0], 28, 28, 1)).astype('float32') / 255\n",
        "test_data = test_data.reshape((test_data.shape[0], 28, 28, 1)).astype('float32') / 255\n",
        "\n",
        "# Definir la estructura de la red neuronal convolucional\n",
        "model = Sequential([\n",
        "    Conv2D(32, (3, 3), activation='relu', input_shape=(28, 28, 1)),\n",
        "    MaxPooling2D((2, 2)),\n",
        "    Conv2D(64, (3, 3), activation='relu'),\n",
        "    MaxPooling2D((2, 2)),\n",
        "    Flatten(),\n",
        "    Dense(128, activation='relu'),\n",
        "    Dense(10, activation='softmax')\n",
        "])\n",
        "\n",
        "model.compile(optimizer='adam',\n",
        "              loss='sparse_categorical_crossentropy',\n",
        "              metrics=['accuracy'])\n",
        "\n",
        "# Entrenamiento del modelo\n",
        "history = model.fit(train_data, train_labels, epochs=5, validation_data=(test_data, test_labels))\n",
        "\n",
        "# Evaluar el modelo con los datos de prueba\n",
        "test_loss, test_accuracy = model.evaluate(test_data, test_labels)\n",
        "print(\"Exactitud del modelo en datos de prueba:\", test_accuracy)\n",
        "\n",
        "# Realizar predicciones y mostrar las imágenes\n",
        "num_predicciones = 5\n",
        "indices_aleatorios = np.random.choice(test_data.shape[0], num_predicciones, replace=False)\n",
        "plt.figure(figsize=(15, 5))\n",
        "for i, idx in enumerate(indices_aleatorios):\n",
        "    plt.subplot(1, num_predicciones, i + 1)\n",
        "    plt.imshow(test_data[idx].reshape(28, 28), cmap='gray')\n",
        "    plt.axis('off')\n",
        "    # Realizar la predicción\n",
        "    prediction = model.predict(np.expand_dims(test_data[idx], axis=0))\n",
        "    predicted_label = np.argmax(prediction)\n",
        "    actual_label = test_labels[idx]\n",
        "    plt.title(f\"Predicción: {predicted_label}\\nValor real: {actual_label}\")\n",
        "\n",
        "plt.show()\n"
      ],
      "metadata": {
        "colab": {
          "base_uri": "https://localhost:8080/",
          "height": 575
        },
        "id": "nOf_SbVIClCo",
        "outputId": "ffdd9f81-03b2-4250-f6fc-b5cbeb8d784a"
      },
      "execution_count": 7,
      "outputs": [
        {
          "output_type": "stream",
          "name": "stdout",
          "text": [
            "Epoch 1/5\n",
            "1875/1875 [==============================] - 35s 18ms/step - loss: 0.1281 - accuracy: 0.9607 - val_loss: 0.0428 - val_accuracy: 0.9863\n",
            "Epoch 2/5\n",
            "1875/1875 [==============================] - 35s 19ms/step - loss: 0.0423 - accuracy: 0.9865 - val_loss: 0.0361 - val_accuracy: 0.9881\n",
            "Epoch 3/5\n",
            "1875/1875 [==============================] - 34s 18ms/step - loss: 0.0289 - accuracy: 0.9911 - val_loss: 0.0428 - val_accuracy: 0.9859\n",
            "Epoch 4/5\n",
            "1875/1875 [==============================] - 33s 18ms/step - loss: 0.0206 - accuracy: 0.9933 - val_loss: 0.0227 - val_accuracy: 0.9926\n",
            "Epoch 5/5\n",
            "1875/1875 [==============================] - 34s 18ms/step - loss: 0.0161 - accuracy: 0.9946 - val_loss: 0.0287 - val_accuracy: 0.9910\n",
            "313/313 [==============================] - 2s 5ms/step - loss: 0.0287 - accuracy: 0.9910\n",
            "Exactitud del modelo en datos de prueba: 0.9909999966621399\n",
            "1/1 [==============================] - 0s 49ms/step\n",
            "1/1 [==============================] - 0s 14ms/step\n",
            "1/1 [==============================] - 0s 14ms/step\n",
            "1/1 [==============================] - 0s 14ms/step\n",
            "1/1 [==============================] - 0s 17ms/step\n"
          ]
        },
        {
          "output_type": "display_data",
          "data": {
            "text/plain": [
              "<Figure size 1500x500 with 5 Axes>"
            ],
            "image/png": "[encoded data removed]"
          },
          "metadata": {}
        }
      ]
    },
    {
      "cell_type": "markdown",
      "source": [
        "Responiendo las preguntas\n",
        "\n",
        "# ¿Cuántas épocas usaste para mejorar el rendimiento del modelo en comparación con la red neuronal prealimentada de la actividad 5?\n",
        "\n",
        "Usé 5 épocas tanto para la red neuronal prealimentada como para la red neuronal convolucional. Sin embargo, en la práctica, el número de épocas puede ajustarse según el rendimiento que se observe durante la validación y los recursos computacionales que tengamos disponibles. A menudo, una CNN puede beneficiarse de más épocas de entrenamiento para mejorar su rendimiento.\n",
        "\n",
        "# ¿Obtuviste un mejor rendimiento con este modelo o con el de la actividad 5? ¿Por qué?\n",
        "\n",
        "Obtuve un mejor rendimiento con el modelo de la actividad 6, era mas rapido en respuesta y mas preciso, investigando un poco pude descubrir que el modelo de red neuronal convolucional (CNN) tiene mejor rendimiento en la clasificación de imágenes comparado con la red neuronal prealimentada. Esto es porque las CNN pueden captar características espaciales y patrones locales en las imágenes gracias a sus capas convolucionales y de pooling, lo cual es muy útil para tareas de visión por computadora."
      ],
      "metadata": {
        "id": "Eq-v2-29Pmfb"
      }
    }
  ]
}
